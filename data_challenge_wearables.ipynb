{
 "cells": [
  {
   "cell_type": "code",
   "execution_count": 158,
   "metadata": {},
   "outputs": [],
   "source": [
    "import pandas as pd\n",
    "import matplotlib.pyplot as plt"
   ]
  },
  {
   "cell_type": "code",
   "execution_count": 159,
   "metadata": {},
   "outputs": [],
   "source": [
    "# importing the .csv file\n",
    "\n",
    "wearables = pd.read_csv(\"DataChallenge_Wearables - Wearables.csv\")"
   ]
  },
  {
   "cell_type": "code",
   "execution_count": 160,
   "metadata": {},
   "outputs": [
    {
     "data": {
      "text/plain": [
       "pandas.core.frame.DataFrame"
      ]
     },
     "execution_count": 160,
     "metadata": {},
     "output_type": "execute_result"
    }
   ],
   "source": [
    "# confirming the data type\n",
    "\n",
    "type(wearables)"
   ]
  },
  {
   "cell_type": "code",
   "execution_count": 161,
   "metadata": {},
   "outputs": [
    {
     "data": {
      "text/html": [
       "<div>\n",
       "<style scoped>\n",
       "    .dataframe tbody tr th:only-of-type {\n",
       "        vertical-align: middle;\n",
       "    }\n",
       "\n",
       "    .dataframe tbody tr th {\n",
       "        vertical-align: top;\n",
       "    }\n",
       "\n",
       "    .dataframe thead th {\n",
       "        text-align: right;\n",
       "    }\n",
       "</style>\n",
       "<table border=\"1\" class=\"dataframe\">\n",
       "  <thead>\n",
       "    <tr style=\"text-align: right;\">\n",
       "      <th></th>\n",
       "      <th>Name</th>\n",
       "      <th>Price</th>\n",
       "      <th>Body.Location</th>\n",
       "      <th>Category</th>\n",
       "      <th>Company.Name</th>\n",
       "      <th>Company.URL</th>\n",
       "      <th>Company...Mapping.Location</th>\n",
       "      <th>Company...City</th>\n",
       "      <th>Company...U.S..State</th>\n",
       "      <th>Company...Country</th>\n",
       "      <th>Source</th>\n",
       "      <th>Link</th>\n",
       "      <th>Duplicates.note.1</th>\n",
       "      <th>id</th>\n",
       "      <th>Image</th>\n",
       "    </tr>\n",
       "  </thead>\n",
       "  <tbody>\n",
       "    <tr>\n",
       "      <td>0</td>\n",
       "      <td>Barska GB12166 Fitness Watch with Heart Rate Monitor</td>\n",
       "      <td>49.99</td>\n",
       "      <td>Wrist</td>\n",
       "      <td>Fitness</td>\n",
       "      <td>Barska</td>\n",
       "      <td>http://www.barska.com/</td>\n",
       "      <td>Pomona, California, United States</td>\n",
       "      <td>Pomona</td>\n",
       "      <td>California</td>\n",
       "      <td>United States</td>\n",
       "      <td>Google Results</td>\n",
       "      <td>https://www.google.com/shopping/product/10446231526816782710?q=wearable+technology&amp;saf...</td>\n",
       "      <td>NaN</td>\n",
       "      <td>200</td>\n",
       "      <td>data:image/jpeg;base64,/9j/4AAQSkZJRgABAQAAAQABAAD/2wCEAAkGBwgHBgkIBwgKCgkLDRYPDQwMDRs...</td>\n",
       "    </tr>\n",
       "  </tbody>\n",
       "</table>\n",
       "</div>"
      ],
      "text/plain": [
       "                                                   Name  Price Body.Location  \\\n",
       "0  Barska GB12166 Fitness Watch with Heart Rate Monitor  49.99         Wrist   \n",
       "\n",
       "  Category Company.Name             Company.URL  \\\n",
       "0  Fitness       Barska  http://www.barska.com/   \n",
       "\n",
       "          Company...Mapping.Location Company...City Company...U.S..State  \\\n",
       "0  Pomona, California, United States         Pomona           California   \n",
       "\n",
       "  Company...Country          Source  \\\n",
       "0     United States  Google Results   \n",
       "\n",
       "                                                                                        Link  \\\n",
       "0  https://www.google.com/shopping/product/10446231526816782710?q=wearable+technology&saf...   \n",
       "\n",
       "   Duplicates.note.1   id  \\\n",
       "0                NaN  200   \n",
       "\n",
       "                                                                                       Image  \n",
       "0  data:image/jpeg;base64,/9j/4AAQSkZJRgABAQAAAQABAAD/2wCEAAkGBwgHBgkIBwgKCgkLDRYPDQwMDRs...  "
      ]
     },
     "execution_count": 161,
     "metadata": {},
     "output_type": "execute_result"
    }
   ],
   "source": [
    "# checking the layout of the data\n",
    "\n",
    "wearables.head(1)"
   ]
  },
  {
   "cell_type": "code",
   "execution_count": 162,
   "metadata": {},
   "outputs": [
    {
     "data": {
      "text/plain": [
       "(582, 15)"
      ]
     },
     "execution_count": 162,
     "metadata": {},
     "output_type": "execute_result"
    }
   ],
   "source": [
    "# finding the original number of devices\n",
    "\n",
    "wearables.shape"
   ]
  },
  {
   "cell_type": "code",
   "execution_count": 163,
   "metadata": {},
   "outputs": [
    {
     "data": {
      "text/html": [
       "<div>\n",
       "<style scoped>\n",
       "    .dataframe tbody tr th:only-of-type {\n",
       "        vertical-align: middle;\n",
       "    }\n",
       "\n",
       "    .dataframe tbody tr th {\n",
       "        vertical-align: top;\n",
       "    }\n",
       "\n",
       "    .dataframe thead th {\n",
       "        text-align: right;\n",
       "    }\n",
       "</style>\n",
       "<table border=\"1\" class=\"dataframe\">\n",
       "  <thead>\n",
       "    <tr style=\"text-align: right;\">\n",
       "      <th></th>\n",
       "      <th>Name</th>\n",
       "      <th>Price</th>\n",
       "      <th>Body.Location</th>\n",
       "      <th>Category</th>\n",
       "      <th>Company.Name</th>\n",
       "      <th>Company.URL</th>\n",
       "      <th>Company...Mapping.Location</th>\n",
       "      <th>Company...City</th>\n",
       "      <th>Company...U.S..State</th>\n",
       "      <th>Company...Country</th>\n",
       "      <th>Source</th>\n",
       "      <th>Link</th>\n",
       "      <th>Duplicates.note.1</th>\n",
       "      <th>id</th>\n",
       "      <th>Image</th>\n",
       "    </tr>\n",
       "  </thead>\n",
       "  <tbody>\n",
       "    <tr>\n",
       "      <td>379</td>\n",
       "      <td>Polar 92052231 - H7 Heart Rate Sensor M-XXL - Pink</td>\n",
       "      <td>55.69</td>\n",
       "      <td>Chest</td>\n",
       "      <td>Fitness</td>\n",
       "      <td>Polar</td>\n",
       "      <td>http://www.polar.com/</td>\n",
       "      <td>Lake Success, New York, United States</td>\n",
       "      <td>Lake Success</td>\n",
       "      <td>New York</td>\n",
       "      <td>United States</td>\n",
       "      <td>Google Results</td>\n",
       "      <td>https://www.google.com/shopping/product/15135204878467269224?q=wearable+technology&amp;saf...</td>\n",
       "      <td>NaN</td>\n",
       "      <td>516</td>\n",
       "      <td>data:image/jpeg;base64,/9j/4AAQSkZJRgABAQAAAQABAAD/2wCEAAkGBwgHBgkIBwgKCgkLDRYPDQwMDRs...</td>\n",
       "    </tr>\n",
       "    <tr>\n",
       "      <td>380</td>\n",
       "      <td>Polar CS600X Computer Black/Silver 90034225</td>\n",
       "      <td>378.00</td>\n",
       "      <td>Wrist</td>\n",
       "      <td>Fitness</td>\n",
       "      <td>Polar</td>\n",
       "      <td>http://www.polar.com/</td>\n",
       "      <td>Lake Success, New York, United States</td>\n",
       "      <td>Lake Success</td>\n",
       "      <td>New York</td>\n",
       "      <td>United States</td>\n",
       "      <td>Google Results</td>\n",
       "      <td>https://www.google.com/shopping/product/1520493691571782528?q=wearable+technology&amp;safe...</td>\n",
       "      <td>NaN</td>\n",
       "      <td>408</td>\n",
       "      <td>data:image/jpeg;base64,/9j/4AAQSkZJRgABAQAAAQABAAD/2wCEAAkGBwgHBgkIBwgKCgkLDRYPDQwMDRs...</td>\n",
       "    </tr>\n",
       "    <tr>\n",
       "      <td>381</td>\n",
       "      <td>Polar CS600X GPS (G5) w/KEO Power Set 90043366</td>\n",
       "      <td>2495.00</td>\n",
       "      <td>Wrist</td>\n",
       "      <td>Fitness</td>\n",
       "      <td>Polar</td>\n",
       "      <td>http://www.polar.com/</td>\n",
       "      <td>Lake Success, New York, United States</td>\n",
       "      <td>Lake Success</td>\n",
       "      <td>New York</td>\n",
       "      <td>United States</td>\n",
       "      <td>Google Results</td>\n",
       "      <td>https://www.google.com/shopping/product/5109194754099553619?q=wearable+technology&amp;safe...</td>\n",
       "      <td>NaN</td>\n",
       "      <td>483</td>\n",
       "      <td>data:image/jpeg;base64,/9j/4AAQSkZJRgABAQAAAQABAAD/2wCEAAkGBwgHBgkIBwgKCgkLDRYPDQwMDRs...</td>\n",
       "    </tr>\n",
       "    <tr>\n",
       "      <td>382</td>\n",
       "      <td>Polar Electro, Inc Polar RC3 GPS with heart rate - GPS watch - cycle, running (90048177)</td>\n",
       "      <td>349.99</td>\n",
       "      <td>Wrist</td>\n",
       "      <td>Fitness</td>\n",
       "      <td>Polar</td>\n",
       "      <td>http://www.polar.com/</td>\n",
       "      <td>Lake Success, New York, United States</td>\n",
       "      <td>Lake Success</td>\n",
       "      <td>New York</td>\n",
       "      <td>United States</td>\n",
       "      <td>Google Results</td>\n",
       "      <td>http://www.google.com/aclk?sa=l&amp;ai=Ck87BbA92VM7-OZSVpgPkk4HADMyljbgH_Nu7iJ8BqOC7jkQICR...</td>\n",
       "      <td>NaN</td>\n",
       "      <td>343</td>\n",
       "      <td>data:image/jpeg;base64,/9j/4AAQSkZJRgABAQAAAQABAAD/2wCEAAkGBwgHBgkIBwgKCgkLDRYPDQwMDRs...</td>\n",
       "    </tr>\n",
       "    <tr>\n",
       "      <td>383</td>\n",
       "      <td>Polar Electro, Inc Polar RCX3 Sports Watch with Heart Rate Monitor White (90042218)</td>\n",
       "      <td>127.95</td>\n",
       "      <td>Wrist</td>\n",
       "      <td>Fitness</td>\n",
       "      <td>Polar</td>\n",
       "      <td>http://www.polar.com/</td>\n",
       "      <td>Lake Success, New York, United States</td>\n",
       "      <td>Lake Success</td>\n",
       "      <td>New York</td>\n",
       "      <td>United States</td>\n",
       "      <td>Google Results</td>\n",
       "      <td>https://www.google.com/shopping/product/7437366965187669722?q=wearable+technology&amp;safe...</td>\n",
       "      <td>NaN</td>\n",
       "      <td>518</td>\n",
       "      <td>data:image/jpeg;base64,/9j/4AAQSkZJRgABAQAAAQABAAD/2wCEAAkGBwgHBgkIBwgKCgkLDRYPDQwMDRs...</td>\n",
       "    </tr>\n",
       "    <tr>\n",
       "      <td>384</td>\n",
       "      <td>Polar FT1 Heart Rate Monitor</td>\n",
       "      <td>41.29</td>\n",
       "      <td>Wrist</td>\n",
       "      <td>Fitness</td>\n",
       "      <td>Polar</td>\n",
       "      <td>http://www.polar.com/</td>\n",
       "      <td>Lake Success, New York, United States</td>\n",
       "      <td>Lake Success</td>\n",
       "      <td>New York</td>\n",
       "      <td>United States</td>\n",
       "      <td>Google Results</td>\n",
       "      <td>https://www.google.com/shopping/product/15674349672450010001?q=wearable+technology&amp;saf...</td>\n",
       "      <td>NaN</td>\n",
       "      <td>445</td>\n",
       "      <td>data:image/jpeg;base64,/9j/4AAQSkZJRgABAQAAAQABAAD/2wCEAAkGBwgHBgkIBwgKCgkLDRYPDQwMDRs...</td>\n",
       "    </tr>\n",
       "  </tbody>\n",
       "</table>\n",
       "</div>"
      ],
      "text/plain": [
       "                                                                                         Name  \\\n",
       "379                                        Polar 92052231 - H7 Heart Rate Sensor M-XXL - Pink   \n",
       "380                                               Polar CS600X Computer Black/Silver 90034225   \n",
       "381                                            Polar CS600X GPS (G5) w/KEO Power Set 90043366   \n",
       "382  Polar Electro, Inc Polar RC3 GPS with heart rate - GPS watch - cycle, running (90048177)   \n",
       "383       Polar Electro, Inc Polar RCX3 Sports Watch with Heart Rate Monitor White (90042218)   \n",
       "384                                                              Polar FT1 Heart Rate Monitor   \n",
       "\n",
       "       Price Body.Location Category Company.Name            Company.URL  \\\n",
       "379    55.69         Chest  Fitness        Polar  http://www.polar.com/   \n",
       "380   378.00         Wrist  Fitness        Polar  http://www.polar.com/   \n",
       "381  2495.00         Wrist  Fitness        Polar  http://www.polar.com/   \n",
       "382   349.99         Wrist  Fitness        Polar  http://www.polar.com/   \n",
       "383   127.95         Wrist  Fitness        Polar  http://www.polar.com/   \n",
       "384    41.29         Wrist  Fitness        Polar  http://www.polar.com/   \n",
       "\n",
       "                Company...Mapping.Location Company...City  \\\n",
       "379  Lake Success, New York, United States   Lake Success   \n",
       "380  Lake Success, New York, United States   Lake Success   \n",
       "381  Lake Success, New York, United States   Lake Success   \n",
       "382  Lake Success, New York, United States   Lake Success   \n",
       "383  Lake Success, New York, United States   Lake Success   \n",
       "384  Lake Success, New York, United States   Lake Success   \n",
       "\n",
       "    Company...U.S..State Company...Country          Source  \\\n",
       "379             New York     United States  Google Results   \n",
       "380             New York     United States  Google Results   \n",
       "381             New York     United States  Google Results   \n",
       "382             New York     United States  Google Results   \n",
       "383             New York     United States  Google Results   \n",
       "384             New York     United States  Google Results   \n",
       "\n",
       "                                                                                          Link  \\\n",
       "379  https://www.google.com/shopping/product/15135204878467269224?q=wearable+technology&saf...   \n",
       "380  https://www.google.com/shopping/product/1520493691571782528?q=wearable+technology&safe...   \n",
       "381  https://www.google.com/shopping/product/5109194754099553619?q=wearable+technology&safe...   \n",
       "382  http://www.google.com/aclk?sa=l&ai=Ck87BbA92VM7-OZSVpgPkk4HADMyljbgH_Nu7iJ8BqOC7jkQICR...   \n",
       "383  https://www.google.com/shopping/product/7437366965187669722?q=wearable+technology&safe...   \n",
       "384  https://www.google.com/shopping/product/15674349672450010001?q=wearable+technology&saf...   \n",
       "\n",
       "     Duplicates.note.1   id  \\\n",
       "379                NaN  516   \n",
       "380                NaN  408   \n",
       "381                NaN  483   \n",
       "382                NaN  343   \n",
       "383                NaN  518   \n",
       "384                NaN  445   \n",
       "\n",
       "                                                                                         Image  \n",
       "379  data:image/jpeg;base64,/9j/4AAQSkZJRgABAQAAAQABAAD/2wCEAAkGBwgHBgkIBwgKCgkLDRYPDQwMDRs...  \n",
       "380  data:image/jpeg;base64,/9j/4AAQSkZJRgABAQAAAQABAAD/2wCEAAkGBwgHBgkIBwgKCgkLDRYPDQwMDRs...  \n",
       "381  data:image/jpeg;base64,/9j/4AAQSkZJRgABAQAAAQABAAD/2wCEAAkGBwgHBgkIBwgKCgkLDRYPDQwMDRs...  \n",
       "382  data:image/jpeg;base64,/9j/4AAQSkZJRgABAQAAAQABAAD/2wCEAAkGBwgHBgkIBwgKCgkLDRYPDQwMDRs...  \n",
       "383  data:image/jpeg;base64,/9j/4AAQSkZJRgABAQAAAQABAAD/2wCEAAkGBwgHBgkIBwgKCgkLDRYPDQwMDRs...  \n",
       "384  data:image/jpeg;base64,/9j/4AAQSkZJRgABAQAAAQABAAD/2wCEAAkGBwgHBgkIBwgKCgkLDRYPDQwMDRs...  "
      ]
     },
     "execution_count": 163,
     "metadata": {},
     "output_type": "execute_result"
    }
   ],
   "source": [
    "# some exploration\n",
    "\n",
    "wearables.iloc[379:385]"
   ]
  },
  {
   "cell_type": "code",
   "execution_count": 164,
   "metadata": {},
   "outputs": [
    {
     "data": {
      "text/plain": [
       "['Name',\n",
       " 'Price',\n",
       " 'Body.Location',\n",
       " 'Category',\n",
       " 'Company.Name',\n",
       " 'Company.URL',\n",
       " 'Company...Mapping.Location',\n",
       " 'Company...City',\n",
       " 'Company...U.S..State',\n",
       " 'Company...Country',\n",
       " 'Source',\n",
       " 'Link',\n",
       " 'Duplicates.note.1',\n",
       " 'id',\n",
       " 'Image']"
      ]
     },
     "execution_count": 164,
     "metadata": {},
     "output_type": "execute_result"
    }
   ],
   "source": [
    "# listing the columns for cleaning\n",
    "\n",
    "wearables.columns.tolist()"
   ]
  },
  {
   "cell_type": "code",
   "execution_count": 165,
   "metadata": {},
   "outputs": [],
   "source": [
    "# cleaning up the column names\n",
    "\n",
    "wearables.columns = ['name','price','body_location','category','company_name','company_url','mapping_location','city','state',\n",
    "                     'country','source','link','duplicates','id','image']"
   ]
  },
  {
   "cell_type": "code",
   "execution_count": 166,
   "metadata": {},
   "outputs": [
    {
     "data": {
      "text/plain": [
       "0    49.99\n",
       "1    24.99\n",
       "2    12.99\n",
       "3    67.62\n",
       "4    39.99\n",
       "Name: price, dtype: float64"
      ]
     },
     "execution_count": 166,
     "metadata": {},
     "output_type": "execute_result"
    }
   ],
   "source": [
    "wearables[\"price\"].head()"
   ]
  },
  {
   "cell_type": "code",
   "execution_count": 167,
   "metadata": {},
   "outputs": [
    {
     "data": {
      "text/plain": [
       "125.97616216216201"
      ]
     },
     "execution_count": 167,
     "metadata": {},
     "output_type": "execute_result"
    }
   ],
   "source": [
    "# one way to acquire the average\n",
    "\n",
    "wearables[\"price\"].mean()"
   ]
  },
  {
   "cell_type": "code",
   "execution_count": 168,
   "metadata": {},
   "outputs": [
    {
     "data": {
      "text/plain": [
       "count     370.000000\n",
       "mean      125.976162\n",
       "std       168.105247\n",
       "min         3.990000\n",
       "25%        45.680000\n",
       "50%        89.950000\n",
       "75%       163.240000\n",
       "max      2495.000000\n",
       "Name: price, dtype: float64"
      ]
     },
     "execution_count": 168,
     "metadata": {},
     "output_type": "execute_result"
    }
   ],
   "source": [
    "# getting the broad picture of 'price'\n",
    "\n",
    "wearables.price.describe()"
   ]
  },
  {
   "cell_type": "code",
   "execution_count": 169,
   "metadata": {},
   "outputs": [
    {
     "data": {
      "text/plain": [
       "count     272.000000\n",
       "mean      139.120147\n",
       "std       179.113947\n",
       "min         9.910000\n",
       "25%        55.730000\n",
       "50%        99.990000\n",
       "75%       169.990000\n",
       "max      2495.000000\n",
       "Name: price, dtype: float64"
      ]
     },
     "execution_count": 169,
     "metadata": {},
     "output_type": "execute_result"
    }
   ],
   "source": [
    "# getting the broad picture of the body location 'wrist'\n",
    "\n",
    "wearables[wearables.body_location == 'Wrist'].price.describe()"
   ]
  },
  {
   "cell_type": "code",
   "execution_count": 170,
   "metadata": {},
   "outputs": [
    {
     "data": {
      "text/plain": [
       "199.99    16\n",
       "99.99     16\n",
       "59.99     10\n",
       "24.99     10\n",
       "79.99      9\n",
       "          ..\n",
       "81.87      1\n",
       "41.29      1\n",
       "164.01     1\n",
       "49.95      1\n",
       "499.95     1\n",
       "Name: price, Length: 217, dtype: int64"
      ]
     },
     "execution_count": 170,
     "metadata": {},
     "output_type": "execute_result"
    }
   ],
   "source": [
    "# finding the most common occurrences\n",
    "\n",
    "wearables.price.value_counts()"
   ]
  },
  {
   "cell_type": "code",
   "execution_count": 171,
   "metadata": {},
   "outputs": [
    {
     "data": {
      "image/png": "[encoded data removed]",
      "text/plain": [
       "<Figure size 432x288 with 1 Axes>"
      ]
     },
     "metadata": {
      "needs_background": "light"
     },
     "output_type": "display_data"
    }
   ],
   "source": [
    "# creating a histogram for 'price'\n",
    "\n",
    "wearables.price.hist(bins=10)\n",
    "\n",
    "plt.show()"
   ]
  },
  {
   "cell_type": "code",
   "execution_count": 172,
   "metadata": {},
   "outputs": [
    {
     "data": {
      "image/png": "[encoded data removed]",
      "text/plain": [
       "<Figure size 432x288 with 1 Axes>"
      ]
     },
     "metadata": {
      "needs_background": "light"
     },
     "output_type": "display_data"
    }
   ],
   "source": [
    "# refining the histogram to get a clearer picture of the data\n",
    "# saving histogram image to a file\n",
    "\n",
    "wearables.price.hist(bins=100)\n",
    "\n",
    "plt.title(\"Price Distribution of Wearables\")\n",
    "plt.ylabel(\"number of devices\")\n",
    "plt.xlabel(\"u.s. dollars\")\n",
    "\n",
    "plt.savefig('price.png')\n",
    "plt.show()"
   ]
  },
  {
   "cell_type": "code",
   "execution_count": 173,
   "metadata": {},
   "outputs": [
    {
     "data": {
      "text/plain": [
       "count     179.000000\n",
       "mean      126.376704\n",
       "std       202.937150\n",
       "min         3.990000\n",
       "25%        47.680000\n",
       "50%        79.950000\n",
       "75%       151.695000\n",
       "max      2495.000000\n",
       "Name: price, dtype: float64"
      ]
     },
     "execution_count": 173,
     "metadata": {},
     "output_type": "execute_result"
    }
   ],
   "source": [
    "# getting a broad picture of the category 'fitness'\n",
    "\n",
    "wearables[wearables.category == 'Fitness'].price.describe()"
   ]
  },
  {
   "cell_type": "code",
   "execution_count": 174,
   "metadata": {},
   "outputs": [
    {
     "data": {
      "text/plain": [
       "79.95"
      ]
     },
     "execution_count": 174,
     "metadata": {},
     "output_type": "execute_result"
    }
   ],
   "source": [
    "# another way to find the median\n",
    "\n",
    "wearables[wearables.category == 'Fitness'].price.median()"
   ]
  },
  {
   "cell_type": "code",
   "execution_count": 175,
   "metadata": {},
   "outputs": [
    {
     "data": {
      "text/plain": [
       "Fitness               215\n",
       "Lifestyle             185\n",
       "Entertainment         102\n",
       "Medical                43\n",
       "Pets and Animals       15\n",
       "Gaming                  5\n",
       "Lifestyle, Fitness      3\n",
       "Industrial              3\n",
       "Name: category, dtype: int64"
      ]
     },
     "execution_count": 175,
     "metadata": {},
     "output_type": "execute_result"
    }
   ],
   "source": [
    "# showing all of the categories\n",
    "\n",
    "wearables.category.value_counts()"
   ]
  },
  {
   "cell_type": "code",
   "execution_count": 176,
   "metadata": {},
   "outputs": [
    {
     "data": {
      "text/plain": [
       "category\n",
       "Entertainment         126.159655\n",
       "Fitness               126.376704\n",
       "Gaming                 81.870000\n",
       "Industrial             20.845000\n",
       "Lifestyle             134.865455\n",
       "Lifestyle, Fitness     35.720000\n",
       "Medical                92.200455\n",
       "Pets and Animals       70.423333\n",
       "Name: price, dtype: float64"
      ]
     },
     "execution_count": 176,
     "metadata": {},
     "output_type": "execute_result"
    }
   ],
   "source": [
    "# finding the average price of each category \n",
    "\n",
    "wearables.groupby('category').price.mean()"
   ]
  },
  {
   "cell_type": "code",
   "execution_count": 177,
   "metadata": {},
   "outputs": [
    {
     "data": {
      "text/plain": [
       "category\n",
       "Industrial             20.845000\n",
       "Lifestyle, Fitness     35.720000\n",
       "Pets and Animals       70.423333\n",
       "Gaming                 81.870000\n",
       "Medical                92.200455\n",
       "Entertainment         126.159655\n",
       "Fitness               126.376704\n",
       "Lifestyle             134.865455\n",
       "Name: price, dtype: float64"
      ]
     },
     "execution_count": 177,
     "metadata": {},
     "output_type": "execute_result"
    }
   ],
   "source": [
    "# making the results pretty\n",
    "\n",
    "wearables.groupby('category').price.mean().sort_values()"
   ]
  },
  {
   "cell_type": "code",
   "execution_count": 178,
   "metadata": {},
   "outputs": [
    {
     "data": {
      "text/plain": [
       "<matplotlib.axes._subplots.AxesSubplot at 0x7fcc39eb9510>"
      ]
     },
     "execution_count": 178,
     "metadata": {},
     "output_type": "execute_result"
    },
    {
     "data": {
      "image/png": "[encoded data removed]",
      "text/plain": [
       "<Figure size 432x288 with 1 Axes>"
      ]
     },
     "metadata": {
      "needs_background": "light"
     },
     "output_type": "display_data"
    }
   ],
   "source": [
    "# creating the bar chart\n",
    "# chaining is your friend\n",
    "\n",
    "wearables.groupby('category').price.mean().sort_values().plot(kind = 'bar')"
   ]
  },
  {
   "cell_type": "code",
   "execution_count": 179,
   "metadata": {},
   "outputs": [
    {
     "data": {
      "image/png": "[encoded data removed]",
      "text/plain": [
       "<Figure size 432x288 with 1 Axes>"
      ]
     },
     "metadata": {
      "needs_background": "light"
     },
     "output_type": "display_data"
    }
   ],
   "source": [
    "# adding meaning to the bar chart\n",
    "# saving the image to a file\n",
    "\n",
    "plt.title(\"Mean Price of Wearables by Category\")\n",
    "plt.ylabel(\"u.s. dollars\")\n",
    "\n",
    "categories = wearables.groupby('category').price.mean().sort_values().plot(kind = 'bar')\n",
    "\n",
    "plt.savefig('categories.png')\n",
    "plt.show()"
   ]
  },
  {
   "cell_type": "code",
   "execution_count": 180,
   "metadata": {},
   "outputs": [
    {
     "data": {
      "image/png": "[encoded data removed]",
      "text/plain": [
       "<Figure size 432x288 with 1 Axes>"
      ]
     },
     "metadata": {
      "needs_background": "light"
     },
     "output_type": "display_data"
    }
   ],
   "source": [
    "# showing the difference in median price\n",
    "\n",
    "plt.title(\"Taking Care of Outliers\")\n",
    "plt.ylabel(\"u.s. dollars\")\n",
    "\n",
    "categories_med = wearables.groupby('category').price.median().sort_values().plot(kind = 'bar')\n",
    "\n",
    "plt.savefig('categories_med.png')\n",
    "plt.show()"
   ]
  },
  {
   "cell_type": "code",
   "execution_count": 181,
   "metadata": {},
   "outputs": [
    {
     "data": {
      "text/html": [
       "<div>\n",
       "<style scoped>\n",
       "    .dataframe tbody tr th:only-of-type {\n",
       "        vertical-align: middle;\n",
       "    }\n",
       "\n",
       "    .dataframe tbody tr th {\n",
       "        vertical-align: top;\n",
       "    }\n",
       "\n",
       "    .dataframe thead th {\n",
       "        text-align: right;\n",
       "    }\n",
       "</style>\n",
       "<table border=\"1\" class=\"dataframe\">\n",
       "  <thead>\n",
       "    <tr style=\"text-align: right;\">\n",
       "      <th></th>\n",
       "      <th>name</th>\n",
       "      <th>price</th>\n",
       "      <th>body_location</th>\n",
       "      <th>category</th>\n",
       "      <th>company_name</th>\n",
       "      <th>company_url</th>\n",
       "      <th>mapping_location</th>\n",
       "      <th>city</th>\n",
       "      <th>state</th>\n",
       "      <th>country</th>\n",
       "      <th>source</th>\n",
       "      <th>link</th>\n",
       "      <th>duplicates</th>\n",
       "      <th>id</th>\n",
       "      <th>image</th>\n",
       "    </tr>\n",
       "  </thead>\n",
       "  <tbody>\n",
       "    <tr>\n",
       "      <td>0</td>\n",
       "      <td>Barska GB12166 Fitness Watch with Heart Rate Monitor</td>\n",
       "      <td>49.99</td>\n",
       "      <td>Wrist</td>\n",
       "      <td>Fitness</td>\n",
       "      <td>Barska</td>\n",
       "      <td>http://www.barska.com/</td>\n",
       "      <td>Pomona, California, United States</td>\n",
       "      <td>Pomona</td>\n",
       "      <td>California</td>\n",
       "      <td>United States</td>\n",
       "      <td>Google Results</td>\n",
       "      <td>https://www.google.com/shopping/product/10446231526816782710?q=wearable+technology&amp;saf...</td>\n",
       "      <td>NaN</td>\n",
       "      <td>200</td>\n",
       "      <td>data:image/jpeg;base64,/9j/4AAQSkZJRgABAQAAAQABAAD/2wCEAAkGBwgHBgkIBwgKCgkLDRYPDQwMDRs...</td>\n",
       "    </tr>\n",
       "    <tr>\n",
       "      <td>1</td>\n",
       "      <td>Belkin GS5 Sport Fit Armband, Black F8M918B1C00</td>\n",
       "      <td>24.99</td>\n",
       "      <td>Arms</td>\n",
       "      <td>Fitness</td>\n",
       "      <td>Belkin</td>\n",
       "      <td>http://www.belkin.com/</td>\n",
       "      <td>Playa Vista, California, United States</td>\n",
       "      <td>Playa Vista</td>\n",
       "      <td>California</td>\n",
       "      <td>United States</td>\n",
       "      <td>Google Results</td>\n",
       "      <td>https://www.google.com/shopping/product/5326551545037661276?q=wearable+technology&amp;safe...</td>\n",
       "      <td>NaN</td>\n",
       "      <td>129</td>\n",
       "      <td>data:image/jpeg;base64,/9j/4AAQSkZJRgABAQAAAQABAAD/2wCEAAkGBwgHBgkIBwgKCgkLDRYPDQwMDRs...</td>\n",
       "    </tr>\n",
       "    <tr>\n",
       "      <td>2</td>\n",
       "      <td>Bowflex EZ Pro Strapless Heart Rate Monitor Watch, Black</td>\n",
       "      <td>12.99</td>\n",
       "      <td>Wrist</td>\n",
       "      <td>Medical</td>\n",
       "      <td>Bowflex</td>\n",
       "      <td>http://www.bowflex.com/</td>\n",
       "      <td>Vancouver, Washington, United States</td>\n",
       "      <td>Vancouver</td>\n",
       "      <td>Washington</td>\n",
       "      <td>United States</td>\n",
       "      <td>Google Results</td>\n",
       "      <td>https://www.google.com/shopping/product/14794259305726304004?q=wearable+technology&amp;saf...</td>\n",
       "      <td>NaN</td>\n",
       "      <td>284</td>\n",
       "      <td>data:image/jpeg;base64,/9j/4AAQSkZJRgABAQAAAQABAAD/2wCEAAkGBwgHBgkIBwgKCgkLDRYPDQwMDRs...</td>\n",
       "    </tr>\n",
       "    <tr>\n",
       "      <td>3</td>\n",
       "      <td>Casio G Shock Watch Solar Atom (gwm500a-1)</td>\n",
       "      <td>67.62</td>\n",
       "      <td>Wrist</td>\n",
       "      <td>Lifestyle</td>\n",
       "      <td>Casio</td>\n",
       "      <td>http://www.casio.com</td>\n",
       "      <td>Tokyo, Japan</td>\n",
       "      <td>Tokyo</td>\n",
       "      <td>NaN</td>\n",
       "      <td>Japan</td>\n",
       "      <td>Google Results</td>\n",
       "      <td>https://www.google.com/shopping/product/3932529409395155231?q=wearable+technology&amp;safe...</td>\n",
       "      <td>NaN</td>\n",
       "      <td>145</td>\n",
       "      <td>data:image/jpeg;base64,/9j/4AAQSkZJRgABAQAAAQABAAD/2wCEAAkGBwgHBgkIBwgKCgkLDRYPDQwMDRs...</td>\n",
       "    </tr>\n",
       "    <tr>\n",
       "      <td>4</td>\n",
       "      <td>Casio WS220 Solar Runner Digital Wrist Watch; Navy Blue</td>\n",
       "      <td>39.99</td>\n",
       "      <td>Wrist</td>\n",
       "      <td>Lifestyle</td>\n",
       "      <td>Casio</td>\n",
       "      <td>http://www.casio.com</td>\n",
       "      <td>Tokyo, Japan</td>\n",
       "      <td>Tokyo</td>\n",
       "      <td>NaN</td>\n",
       "      <td>Japan</td>\n",
       "      <td>Google Results</td>\n",
       "      <td>https://www.google.com/shopping/product/3161956253915587098?q=wearable+technology&amp;safe...</td>\n",
       "      <td>NaN</td>\n",
       "      <td>177</td>\n",
       "      <td>data:image/jpeg;base64,/9j/4AAQSkZJRgABAQAAAQABAAD/2wCEAAkGBwgHBgkIBwgKCgkLDRYPDQwMDRs...</td>\n",
       "    </tr>\n",
       "  </tbody>\n",
       "</table>\n",
       "</div>"
      ],
      "text/plain": [
       "                                                       name  price  \\\n",
       "0      Barska GB12166 Fitness Watch with Heart Rate Monitor  49.99   \n",
       "1           Belkin GS5 Sport Fit Armband, Black F8M918B1C00  24.99   \n",
       "2  Bowflex EZ Pro Strapless Heart Rate Monitor Watch, Black  12.99   \n",
       "3                Casio G Shock Watch Solar Atom (gwm500a-1)  67.62   \n",
       "4   Casio WS220 Solar Runner Digital Wrist Watch; Navy Blue  39.99   \n",
       "\n",
       "  body_location   category company_name              company_url  \\\n",
       "0         Wrist    Fitness       Barska   http://www.barska.com/   \n",
       "1          Arms    Fitness       Belkin   http://www.belkin.com/   \n",
       "2         Wrist    Medical      Bowflex  http://www.bowflex.com/   \n",
       "3         Wrist  Lifestyle        Casio     http://www.casio.com   \n",
       "4         Wrist  Lifestyle        Casio     http://www.casio.com   \n",
       "\n",
       "                         mapping_location         city       state  \\\n",
       "0       Pomona, California, United States       Pomona  California   \n",
       "1  Playa Vista, California, United States  Playa Vista  California   \n",
       "2    Vancouver, Washington, United States    Vancouver  Washington   \n",
       "3                            Tokyo, Japan        Tokyo         NaN   \n",
       "4                            Tokyo, Japan        Tokyo         NaN   \n",
       "\n",
       "         country          source  \\\n",
       "0  United States  Google Results   \n",
       "1  United States  Google Results   \n",
       "2  United States  Google Results   \n",
       "3          Japan  Google Results   \n",
       "4          Japan  Google Results   \n",
       "\n",
       "                                                                                        link  \\\n",
       "0  https://www.google.com/shopping/product/10446231526816782710?q=wearable+technology&saf...   \n",
       "1  https://www.google.com/shopping/product/5326551545037661276?q=wearable+technology&safe...   \n",
       "2  https://www.google.com/shopping/product/14794259305726304004?q=wearable+technology&saf...   \n",
       "3  https://www.google.com/shopping/product/3932529409395155231?q=wearable+technology&safe...   \n",
       "4  https://www.google.com/shopping/product/3161956253915587098?q=wearable+technology&safe...   \n",
       "\n",
       "   duplicates   id  \\\n",
       "0         NaN  200   \n",
       "1         NaN  129   \n",
       "2         NaN  284   \n",
       "3         NaN  145   \n",
       "4         NaN  177   \n",
       "\n",
       "                                                                                       image  \n",
       "0  data:image/jpeg;base64,/9j/4AAQSkZJRgABAQAAAQABAAD/2wCEAAkGBwgHBgkIBwgKCgkLDRYPDQwMDRs...  \n",
       "1  data:image/jpeg;base64,/9j/4AAQSkZJRgABAQAAAQABAAD/2wCEAAkGBwgHBgkIBwgKCgkLDRYPDQwMDRs...  \n",
       "2  data:image/jpeg;base64,/9j/4AAQSkZJRgABAQAAAQABAAD/2wCEAAkGBwgHBgkIBwgKCgkLDRYPDQwMDRs...  \n",
       "3  data:image/jpeg;base64,/9j/4AAQSkZJRgABAQAAAQABAAD/2wCEAAkGBwgHBgkIBwgKCgkLDRYPDQwMDRs...  \n",
       "4  data:image/jpeg;base64,/9j/4AAQSkZJRgABAQAAAQABAAD/2wCEAAkGBwgHBgkIBwgKCgkLDRYPDQwMDRs...  "
      ]
     },
     "execution_count": 181,
     "metadata": {},
     "output_type": "execute_result"
    }
   ],
   "source": [
    "# exploration\n",
    "\n",
    "no_outliers = wearables[wearables.price < 200]\n",
    "no_outliers.head()"
   ]
  },
  {
   "cell_type": "code",
   "execution_count": 182,
   "metadata": {},
   "outputs": [
    {
     "data": {
      "text/plain": [
       "(321, 15)"
      ]
     },
     "execution_count": 182,
     "metadata": {},
     "output_type": "execute_result"
    }
   ],
   "source": [
    "# if we take the devices over $200 away, the devices decrease dramatically\n",
    "\n",
    "no_outliers.shape"
   ]
  },
  {
   "cell_type": "code",
   "execution_count": 183,
   "metadata": {},
   "outputs": [
    {
     "data": {
      "image/png": "[encoded data removed]",
      "text/plain": [
       "<Figure size 432x288 with 1 Axes>"
      ]
     },
     "metadata": {
      "needs_background": "light"
     },
     "output_type": "display_data"
    }
   ],
   "source": [
    "wearables.groupby('category').id.count().sort_values(ascending=False).plot(kind='bar')\n",
    "\n",
    "plt.show()"
   ]
  },
  {
   "cell_type": "code",
   "execution_count": null,
   "metadata": {},
   "outputs": [],
   "source": []
  }
 ],
 "metadata": {
  "kernelspec": {
   "display_name": "Python 3",
   "language": "python",
   "name": "python3"
  },
  "language_info": {
   "codemirror_mode": {
    "name": "ipython",
    "version": 3
   },
   "file_extension": ".py",
   "mimetype": "text/x-python",
   "name": "python",
   "nbconvert_exporter": "python",
   "pygments_lexer": "ipython3",
   "version": "3.7.4"
  }
 },
 "nbformat": 4,
 "nbformat_minor": 4
}
