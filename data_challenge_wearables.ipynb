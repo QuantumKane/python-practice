{
 "cells": [
  {
   "cell_type": "code",
   "execution_count": 20,
   "metadata": {},
   "outputs": [],
   "source": [
    "import pandas as pd\n",
    "import matplotlib.pyplot as plt"
   ]
  },
  {
   "cell_type": "code",
   "execution_count": 21,
   "metadata": {},
   "outputs": [],
   "source": [
    "wearables = pd.read_csv(\"DataChallenge_Wearables - Wearables.csv\")"
   ]
  },
  {
   "cell_type": "code",
   "execution_count": 28,
   "metadata": {},
   "outputs": [
    {
     "data": {
      "text/plain": [
       "pandas.core.frame.DataFrame"
      ]
     },
     "execution_count": 28,
     "metadata": {},
     "output_type": "execute_result"
    }
   ],
   "source": [
    "type(wearables)"
   ]
  },
  {
   "cell_type": "code",
   "execution_count": 30,
   "metadata": {},
   "outputs": [
    {
     "data": {
      "text/html": [
       "<div>\n",
       "<style scoped>\n",
       "    .dataframe tbody tr th:only-of-type {\n",
       "        vertical-align: middle;\n",
       "    }\n",
       "\n",
       "    .dataframe tbody tr th {\n",
       "        vertical-align: top;\n",
       "    }\n",
       "\n",
       "    .dataframe thead th {\n",
       "        text-align: right;\n",
       "    }\n",
       "</style>\n",
       "<table border=\"1\" class=\"dataframe\">\n",
       "  <thead>\n",
       "    <tr style=\"text-align: right;\">\n",
       "      <th></th>\n",
       "      <th>Name</th>\n",
       "      <th>Price</th>\n",
       "      <th>Body.Location</th>\n",
       "      <th>Category</th>\n",
       "      <th>Company.Name</th>\n",
       "      <th>Company.URL</th>\n",
       "      <th>Company...Mapping.Location</th>\n",
       "      <th>Company...City</th>\n",
       "      <th>Company...U.S..State</th>\n",
       "      <th>Company...Country</th>\n",
       "      <th>Source</th>\n",
       "      <th>Link</th>\n",
       "      <th>Duplicates.note.1</th>\n",
       "      <th>id</th>\n",
       "      <th>Image</th>\n",
       "    </tr>\n",
       "  </thead>\n",
       "  <tbody>\n",
       "    <tr>\n",
       "      <td>0</td>\n",
       "      <td>Barska GB12166 Fitness Watch with Heart Rate Monitor</td>\n",
       "      <td>49.99</td>\n",
       "      <td>Wrist</td>\n",
       "      <td>Fitness</td>\n",
       "      <td>Barska</td>\n",
       "      <td>http://www.barska.com/</td>\n",
       "      <td>Pomona, California, United States</td>\n",
       "      <td>Pomona</td>\n",
       "      <td>California</td>\n",
       "      <td>United States</td>\n",
       "      <td>Google Results</td>\n",
       "      <td>https://www.google.com/shopping/product/10446231526816782710?q=wearable+technology&amp;saf...</td>\n",
       "      <td>NaN</td>\n",
       "      <td>200</td>\n",
       "      <td>data:image/jpeg;base64,/9j/4AAQSkZJRgABAQAAAQABAAD/2wCEAAkGBwgHBgkIBwgKCgkLDRYPDQwMDRs...</td>\n",
       "    </tr>\n",
       "  </tbody>\n",
       "</table>\n",
       "</div>"
      ],
      "text/plain": [
       "                                                   Name  Price Body.Location  \\\n",
       "0  Barska GB12166 Fitness Watch with Heart Rate Monitor  49.99         Wrist   \n",
       "\n",
       "  Category Company.Name             Company.URL  \\\n",
       "0  Fitness       Barska  http://www.barska.com/   \n",
       "\n",
       "          Company...Mapping.Location Company...City Company...U.S..State  \\\n",
       "0  Pomona, California, United States         Pomona           California   \n",
       "\n",
       "  Company...Country          Source  \\\n",
       "0     United States  Google Results   \n",
       "\n",
       "                                                                                        Link  \\\n",
       "0  https://www.google.com/shopping/product/10446231526816782710?q=wearable+technology&saf...   \n",
       "\n",
       "   Duplicates.note.1   id  \\\n",
       "0                NaN  200   \n",
       "\n",
       "                                                                                       Image  \n",
       "0  data:image/jpeg;base64,/9j/4AAQSkZJRgABAQAAAQABAAD/2wCEAAkGBwgHBgkIBwgKCgkLDRYPDQwMDRs...  "
      ]
     },
     "execution_count": 30,
     "metadata": {},
     "output_type": "execute_result"
    }
   ],
   "source": [
    "wearables.head(1)"
   ]
  },
  {
   "cell_type": "code",
   "execution_count": 32,
   "metadata": {},
   "outputs": [
    {
     "data": {
      "text/plain": [
       "['Name',\n",
       " 'Price',\n",
       " 'Body.Location',\n",
       " 'Category',\n",
       " 'Company.Name',\n",
       " 'Company.URL',\n",
       " 'Company...Mapping.Location',\n",
       " 'Company...City',\n",
       " 'Company...U.S..State',\n",
       " 'Company...Country',\n",
       " 'Source',\n",
       " 'Link',\n",
       " 'Duplicates.note.1',\n",
       " 'id',\n",
       " 'Image']"
      ]
     },
     "execution_count": 32,
     "metadata": {},
     "output_type": "execute_result"
    }
   ],
   "source": [
    "wearables.columns.tolist()"
   ]
  },
  {
   "cell_type": "code",
   "execution_count": 33,
   "metadata": {},
   "outputs": [],
   "source": [
    "wearables.columns = ['name','price','body_location','category','company_name','company_url','mapping_location','city','state',\n",
    "                     'country','source','link','duplicates','id','image']"
   ]
  },
  {
   "cell_type": "code",
   "execution_count": 35,
   "metadata": {},
   "outputs": [
    {
     "data": {
      "text/plain": [
       "0    49.99\n",
       "1    24.99\n",
       "2    12.99\n",
       "3    67.62\n",
       "4    39.99\n",
       "Name: price, dtype: float64"
      ]
     },
     "execution_count": 35,
     "metadata": {},
     "output_type": "execute_result"
    }
   ],
   "source": [
    "wearables[\"price\"].head()"
   ]
  },
  {
   "cell_type": "code",
   "execution_count": 36,
   "metadata": {},
   "outputs": [
    {
     "data": {
      "text/plain": [
       "125.97616216216201"
      ]
     },
     "execution_count": 36,
     "metadata": {},
     "output_type": "execute_result"
    }
   ],
   "source": [
    "wearables[\"price\"].mean()"
   ]
  },
  {
   "cell_type": "code",
   "execution_count": 37,
   "metadata": {},
   "outputs": [
    {
     "data": {
      "text/plain": [
       "count     370.000000\n",
       "mean      125.976162\n",
       "std       168.105247\n",
       "min         3.990000\n",
       "25%        45.680000\n",
       "50%        89.950000\n",
       "75%       163.240000\n",
       "max      2495.000000\n",
       "Name: price, dtype: float64"
      ]
     },
     "execution_count": 37,
     "metadata": {},
     "output_type": "execute_result"
    }
   ],
   "source": [
    "wearables.price.describe()"
   ]
  },
  {
   "cell_type": "code",
   "execution_count": 40,
   "metadata": {},
   "outputs": [
    {
     "data": {
      "text/plain": [
       "count     272.000000\n",
       "mean      139.120147\n",
       "std       179.113947\n",
       "min         9.910000\n",
       "25%        55.730000\n",
       "50%        99.990000\n",
       "75%       169.990000\n",
       "max      2495.000000\n",
       "Name: price, dtype: float64"
      ]
     },
     "execution_count": 40,
     "metadata": {},
     "output_type": "execute_result"
    }
   ],
   "source": [
    "wearables[wearables.body_location == 'Wrist'].price.describe()"
   ]
  },
  {
   "cell_type": "code",
   "execution_count": 54,
   "metadata": {},
   "outputs": [
    {
     "data": {
      "text/plain": [
       "199.99    16\n",
       "99.99     16\n",
       "59.99     10\n",
       "24.99     10\n",
       "79.99      9\n",
       "          ..\n",
       "81.87      1\n",
       "41.29      1\n",
       "164.01     1\n",
       "49.95      1\n",
       "499.95     1\n",
       "Name: price, Length: 217, dtype: int64"
      ]
     },
     "execution_count": 54,
     "metadata": {},
     "output_type": "execute_result"
    }
   ],
   "source": [
    "wearables.price.value_counts()"
   ]
  },
  {
   "cell_type": "code",
   "execution_count": 53,
   "metadata": {},
   "outputs": [
    {
     "data": {
      "image/png": "[encoded data removed]",
      "text/plain": [
       "<Figure size 432x288 with 1 Axes>"
      ]
     },
     "metadata": {
      "needs_background": "light"
     },
     "output_type": "display_data"
    }
   ],
   "source": [
    "wearables.price.hist(bins=50)\n",
    "\n",
    "\n",
    "plt.show()"
   ]
  },
  {
   "cell_type": "code",
   "execution_count": 57,
   "metadata": {},
   "outputs": [
    {
     "data": {
      "text/plain": [
       "count     179.000000\n",
       "mean      126.376704\n",
       "std       202.937150\n",
       "min         3.990000\n",
       "25%        47.680000\n",
       "50%        79.950000\n",
       "75%       151.695000\n",
       "max      2495.000000\n",
       "Name: price, dtype: float64"
      ]
     },
     "execution_count": 57,
     "metadata": {},
     "output_type": "execute_result"
    }
   ],
   "source": [
    "wearables[wearables.category == 'Fitness'].price.describe()"
   ]
  },
  {
   "cell_type": "code",
   "execution_count": 58,
   "metadata": {},
   "outputs": [
    {
     "data": {
      "text/plain": [
       "79.95"
      ]
     },
     "execution_count": 58,
     "metadata": {},
     "output_type": "execute_result"
    }
   ],
   "source": [
    "wearables[wearables.category == 'Fitness'].price.median()"
   ]
  },
  {
   "cell_type": "code",
   "execution_count": 59,
   "metadata": {},
   "outputs": [
    {
     "data": {
      "text/plain": [
       "Fitness               215\n",
       "Lifestyle             185\n",
       "Entertainment         102\n",
       "Medical                43\n",
       "Pets and Animals       15\n",
       "Gaming                  5\n",
       "Lifestyle, Fitness      3\n",
       "Industrial              3\n",
       "Name: category, dtype: int64"
      ]
     },
     "execution_count": 59,
     "metadata": {},
     "output_type": "execute_result"
    }
   ],
   "source": [
    "wearables.category.value_counts()"
   ]
  },
  {
   "cell_type": "code",
   "execution_count": null,
   "metadata": {},
   "outputs": [],
   "source": []
  },
  {
   "cell_type": "code",
   "execution_count": null,
   "metadata": {},
   "outputs": [],
   "source": []
  }
 ],
 "metadata": {
  "kernelspec": {
   "display_name": "Python 3",
   "language": "python",
   "name": "python3"
  },
  "language_info": {
   "codemirror_mode": {
    "name": "ipython",
    "version": 3
   },
   "file_extension": ".py",
   "mimetype": "text/x-python",
   "name": "python",
   "nbconvert_exporter": "python",
   "pygments_lexer": "ipython3",
   "version": "3.7.4"
  }
 },
 "nbformat": 4,
 "nbformat_minor": 4
}
